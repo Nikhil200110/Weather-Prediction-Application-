{
 "cells": [
  {
   "cell_type": "markdown",
   "id": "451ee371-09ed-4831-bdd3-0640f3f3e34c",
   "metadata": {},
   "source": [
    "\n",
    "<h1 style=\"color:blue; font-size:24px;\">Importing Required Libraries</h1>"
   ]
  },
  {
   "cell_type": "markdown",
   "id": "57cfc525-bfb3-40b9-857a-720358168005",
   "metadata": {},
   "source": [
    "This section imports libraries for GUI creation (tkinter), data handling (pandas, numpy), machine learning (scikit-learn), visualization (matplotlib, folium), and system operations (os, webbrowser)."
   ]
  },
  {
   "cell_type": "code",
   "execution_count": 26,
   "id": "9271f9dc-59a8-4c0a-88fb-a759dd678ca1",
   "metadata": {
    "id": "9271f9dc-59a8-4c0a-88fb-a759dd678ca1"
   },
   "outputs": [],
   "source": [
    "import tkinter as tk\n",
    "from tkinter import messagebox\n",
    "import requests\n",
    "import pandas as pd\n",
    "import numpy as np\n",
    "from sklearn.model_selection import train_test_split\n",
    "from sklearn.ensemble import RandomForestRegressor\n",
    "import matplotlib.pyplot as plt\n",
    "from matplotlib.backends.backend_tkagg import FigureCanvasTkAgg\n",
    "from geopy.geocoders import Nominatim\n",
    "import folium\n",
    "import webbrowser\n",
    "import os"
   ]
  },
  {
   "cell_type": "markdown",
   "id": "c9c54c27-d4c9-4c4b-9ce6-10a7bd568b84",
   "metadata": {},
   "source": [
    "<h2 style=\"color:black; font-size:24px;\">Setting API Details</h2>\n",
    "This section defines the API key and base URL for interacting with the OpenWeatherMap API. "
   ]
  },
  {
   "cell_type": "code",
   "execution_count": 27,
   "id": "1f3b773d-7304-40a1-a7de-caf910924f30",
   "metadata": {},
   "outputs": [],
   "source": [
    "API_KEY = '2ff8cba845e3bf73c7780eea1b6b5402'\n",
    "BASE_URL = 'https://api.openweathermap.org/data/2.5/'"
   ]
  },
  {
   "cell_type": "markdown",
   "id": "838d106d-8693-4039-8e6d-d9325a6c2aff",
   "metadata": {},
   "source": [
    "<h2 style=\"color:black; font-size:24px;\">Fetch Current Weather Data</h2>\n",
    "This function retrieves the current weather details for a specified city using the OpenWeather API, including temperature, humidity, wind speed, pressure, and more, and returns the data in a structured format."
   ]
  },
  {
   "cell_type": "code",
   "execution_count": 28,
   "id": "3954872e-6d72-4aeb-80be-1aedfc66b679",
   "metadata": {},
   "outputs": [],
   "source": [
    "# Fetch current weather\n",
    "def get_current_weather(city):\n",
    "    url = f\"{BASE_URL}weather?q={city}&appid={API_KEY}&units=metric\"\n",
    "    response = requests.get(url)\n",
    "    data = response.json()\n",
    "    return {\n",
    "        'city': data['name'],\n",
    "        'current_temp': round(data['main']['temp']),\n",
    "        'feels_like': round(data['main']['feels_like']),\n",
    "        'temp_min': round(data['main']['temp_min']),\n",
    "        'temp_max': round(data['main']['temp_max']),\n",
    "        'humidity': round(data['main']['humidity']),\n",
    "        'description': data['weather'][0]['description'],\n",
    "        'country': data['sys']['country'],\n",
    "        'Wind_Gust_Speed': round(data['wind']['speed']),\n",
    "        'pressure': round(data['main']['pressure']),\n",
    "        'lat': data['coord']['lat'],\n",
    "        'lon': data['coord']['lon']\n",
    "    }\n"
   ]
  },
  {
   "cell_type": "markdown",
   "id": "f41910d1-2fcd-4596-8919-1573a092e5d7",
   "metadata": {},
   "source": [
    "<h2 style=\"color:black; font-size:24px;\">Prepare Data and Train Random Forest Regressor for Prediction</h2>\n",
    "Preparing regression data by creating feature and target sets and then train a Random Forest Regressor model using the prepared data to make predictions based on the feature."
   ]
  },
  {
   "cell_type": "code",
   "execution_count": 29,
   "id": "ed5ef3e9-c0e1-4f16-b2a1-9e73c5d271df",
   "metadata": {},
   "outputs": [],
   "source": [
    "# Train RandomForest Regressor for prediction\n",
    "def prepare_regression_data(data, feature):\n",
    "    X, y = [], []\n",
    "    for i in range(len(data) - 1):\n",
    "        X.append(data[feature].iloc[i])\n",
    "        y.append(data[feature].iloc[i + 1])\n",
    "    X = np.array(X).reshape(-1, 1)\n",
    "    y = np.array(y)\n",
    "    return X, y\n",
    "\n",
    "def train_regression_model(X, y):\n",
    "    model = RandomForestRegressor(n_estimators=100, random_state=42)\n",
    "    model.fit(X, y)\n",
    "    return model"
   ]
  },
  {
   "cell_type": "markdown",
   "id": "29882ce3-6b15-4300-b9ff-0562d2392ff1",
   "metadata": {},
   "source": [
    "<h2 style=\"color:black; font-size:24px;\">Predict Future Values</h2>\n",
    "The predict_future function generates predictions for the next 5 time intervals using a trained model, while the moving_average function smooths the predictions by applying a moving average technique with a specified window size."
   ]
  },
  {
   "cell_type": "code",
   "execution_count": 30,
   "id": "364dcb3b-9628-4a2f-8372-f5650a6fd5ba",
   "metadata": {},
   "outputs": [],
   "source": [
    "# Predict future values using the regression model\n",
    "def predict_future(model, current_value):\n",
    "    predictions = [current_value]\n",
    "    for i in range(1, 6):  # Predicting next 5 time intervals\n",
    "        next_value = model.predict(np.array([[predictions[-1]]]))\n",
    "        predictions.append(next_value[0])\n",
    "    return predictions[1:]\n",
    "\n",
    "# Moving Average function to smooth predictions\n",
    "def moving_average(data, window_size=3):\n",
    "    return np.convolve(data, np.ones(window_size) / window_size, mode='valid')"
   ]
  },
  {
   "cell_type": "markdown",
   "id": "c53c3611-d3fc-488b-a886-8c044eb40911",
   "metadata": {},
   "source": [
    "<h2 style=\"color:black; font-size:24px;\"> Create and Display a City Map</h2>\n",
    "Generates an interactive map centered on the given city coordinates using Folium, adds a marker for the city, saves the map as an HTML file, and opens it in the default browser."
   ]
  },
  {
   "cell_type": "code",
   "execution_count": 31,
   "id": "76e06fd9-b111-4d47-b386-ee73a1fc43e0",
   "metadata": {},
   "outputs": [],
   "source": [
    "# Function to create map of city\n",
    "def create_map(city, lat, lon):\n",
    "    m = folium.Map(location=[lat, lon], zoom_start=10)\n",
    "    folium.Marker([lat, lon], popup=city).add_to(m)\n",
    "\n",
    "    # Save the map to an HTML file\n",
    "    map_path = \"city_map.html\"\n",
    "    m.save(map_path)\n",
    "\n",
    "    # Open map in the default browser\n",
    "    webbrowser.open(f'file://{os.path.realpath(map_path)}')\n",
    "\n",
    "    return map_path\n"
   ]
  },
  {
   "cell_type": "markdown",
   "id": "f051d58d-bc1f-4b21-8d3e-670524a546b4",
   "metadata": {},
   "source": [
    "<h2 style=\"color:black; font-size:24px;\"> Display Current Weather Information</h2>\n",
    "This function retrieves and displays the current weather data for a city entered by the user, including details like temperature, humidity, wind speed, and more, handling errors if the weather data cannot be fetched."
   ]
  },
  {
   "cell_type": "code",
   "execution_count": 32,
   "id": "82f4d6a6-e840-4877-9ce9-1bca571bedb1",
   "metadata": {},
   "outputs": [],
   "source": [
    "# Function to display current weather\n",
    "def show_current_weather():\n",
    "    city = city_entry.get()\n",
    "    try:\n",
    "        # Get current weather\n",
    "        weather = get_current_weather(city)\n",
    "\n",
    "        # Display weather info\n",
    "        result_text = f\"City: {weather['city']}, {weather['country']}\\n\"\n",
    "        result_text += f\"CW Temperature: {weather['current_temp']}°C\\n\"\n",
    "        result_text += f\"Feels Like: {weather['feels_like']}°C\\n\"\n",
    "        result_text += f\"Min Temperature: {weather['temp_min']}°C\\n\"\n",
    "        result_text += f\"Max Temperature: {weather['temp_max']}°C\\n\"\n",
    "        result_text += f\"Humidity: {weather['humidity']}%\\n\"\n",
    "        result_text += f\"Description: {weather['description']}\\n\"\n",
    "        result_text += f\"Wind Gust Speed: {weather['Wind_Gust_Speed']} m/s\\n\"\n",
    "        result_text += f\"Pressure: {weather['pressure']} hPa\\n\"\n",
    "        result_label.config(text=result_text)\n",
    "    except Exception as e:\n",
    "        messagebox.showerror(\"Error\", str(e))\n"
   ]
  },
  {
   "cell_type": "markdown",
   "id": "a975eced-9939-4a4b-a941-712c2a33e998",
   "metadata": {},
   "source": [
    "<h2 style=\"color:black; font-size:24px;\"> Weather Prediction and Visualization Application</h2>\n",
    "This application allows users to input a city name and fetches current weather data, including temperature and humidity. It uses regression models to predict future values for temperature and humidity, applies a moving average to smooth predictions, and visualizes the data in a graph. Additionally, it displays the city’s location on a map and integrates this functionality within a Tkinter-based GUI."
   ]
  },
  {
   "cell_type": "code",
   "execution_count": null,
   "id": "a0578373-60c8-4ef2-8cd6-7c7c9ce8297d",
   "metadata": {},
   "outputs": [],
   "source": [
    "# Function to display prediction\n",
    "def show_prediction():\n",
    "    city = city_entry.get()\n",
    "    try:\n",
    "        # Get current weather\n",
    "        weather = get_current_weather(city)\n",
    "\n",
    "        # Load weather data for predictions (using sample CSV or historical data)\n",
    "        data = pd.read_csv('weather.csv')  # Assuming you have a weather dataset\n",
    "        X_temp, y_temp = prepare_regression_data(data, 'Temp')  # Temperature data for prediction\n",
    "        X_hum, y_hum = prepare_regression_data(data, 'Humidity')  # Humidity data for prediction\n",
    "\n",
    "        # Train regression models for temperature and humidity\n",
    "        temp_model = train_regression_model(X_temp, y_temp)\n",
    "        hum_model = train_regression_model(X_hum, y_hum)\n",
    "\n",
    "        # Predict future values\n",
    "        future_temp = predict_future(temp_model, weather['current_temp'])\n",
    "        future_humidity = predict_future(hum_model, weather['humidity'])\n",
    "\n",
    "        # Smooth predictions using moving average\n",
    "        smoothed_temp = moving_average(future_temp)\n",
    "        smoothed_humidity = moving_average(future_humidity)\n",
    "\n",
    "        # Unified graph for temperature and humidity with smooth predictions\n",
    "        fig, ax = plt.subplots(figsize=(8, 4))  # Reduced size for more accuracy\n",
    "\n",
    "        # Combine current and predicted data into a single line graph\n",
    "        all_temp_data = [weather['current_temp']] + smoothed_temp.tolist()\n",
    "        all_hum_data = [weather['humidity']] + smoothed_humidity.tolist()\n",
    "\n",
    "        # Plot the continuous line graph for both Temperature and Humidity\n",
    "        ax.plot(range(len(all_temp_data)), all_temp_data, label='Temperature (°C)', color='tab:red', linestyle='-', marker='o', markersize=6)\n",
    "        ax.plot(range(len(all_hum_data)), all_hum_data, label='Humidity (%)', color='tab:blue', linestyle='-', marker='o', markersize=6)\n",
    "\n",
    "        # Change the color of the current weather dots\n",
    "        ax.plot(0, weather['current_temp'], 'o', color='green', markersize=8, label=\"Current Temp\")\n",
    "        ax.plot(0, weather['humidity'], 'o', color='purple', markersize=8, label=\"Current Humidity\")\n",
    "        # Add text annotations for current values\n",
    "        ax.text(0, weather['current_temp']+ 2, 'CT', color='green', fontsize=10, verticalalignment='bottom', horizontalalignment='center')\n",
    "        ax.text(0, weather['humidity']-2, 'CH', color='purple', fontsize=10, verticalalignment='top', horizontalalignment='center')\n",
    "\n",
    "        ax.set_title(\"Current and Predicted Temperature and Humidity\", fontsize=16, fontweight='bold')\n",
    "        ax.set_xlabel(\"Time (Future Prediction)\", fontsize=12, fontweight='bold')\n",
    "        ax.set_ylabel(\"Temperature (°C) / Humidity (%)\", fontsize=12, fontweight='bold')\n",
    "        ax.legend()\n",
    "\n",
    "        # Create a canvas and display the plot\n",
    "        prediction_window = tk.Toplevel(root)\n",
    "        prediction_window.title(\"Weather Predictions\")\n",
    "\n",
    "        title_label = tk.Label(prediction_window, text=\"Weather Prediction\", font=(\"Helvetica\", 16, 'bold'), fg=\"#1e90ff\")\n",
    "        title_label.pack(pady=10)\n",
    "\n",
    "        canvas = FigureCanvasTkAgg(fig, master=prediction_window)\n",
    "        canvas.draw()\n",
    "        canvas.get_tk_widget().pack(side=tk.LEFT, padx=10)\n",
    "\n",
    "    except Exception as e:\n",
    "        messagebox.showerror(\"Error\", str(e))\n",
    "\n",
    "# Function to display location (Map)\n",
    "def show_location():\n",
    "    city = city_entry.get()\n",
    "    try:\n",
    "        # Get current weather to fetch lat and lon\n",
    "        weather = get_current_weather(city)\n",
    "\n",
    "        # Create the map and open in the browser\n",
    "        create_map(weather['city'], weather['lat'], weather['lon'])\n",
    "\n",
    "    except Exception as e:\n",
    "        messagebox.showerror(\"Error\", str(e))\n",
    "\n",
    "# GUI Setup\n",
    "root = tk.Tk()\n",
    "root.title(\"Weather Prediction App\")\n",
    "root.geometry(\"500x600\")  # Adjusting the window height to take up half of the screen\n",
    "root.config(bg=\"#f5f5f5\")\n",
    "\n",
    "# Title Label\n",
    "title_label = tk.Label(root, text=\"Weather Prediction Application\", font=(\"Helvetica\", 18, 'bold'), fg=\"#1e90ff\", bg=\"#f5f5f5\")\n",
    "title_label.pack(pady=20)\n",
    "\n",
    "# Input field\n",
    "tk.Label(root, text=\"Enter City Name:\", font=(\"Helvetica\", 12), bg=\"#f5f5f5\").pack()\n",
    "city_entry = tk.Entry(root, font=(\"Helvetica\", 12))\n",
    "city_entry.pack(pady=10)\n",
    "\n",
    "# Buttons\n",
    "button_style = {'font': (\"Helvetica\", 12, 'bold'), 'width': 25, 'height': 2, 'bg': '#1e90ff', 'fg': 'white'}\n",
    "\n",
    "tk.Button(root, text=\"Show Current Weather\", command=show_current_weather, **button_style).pack(pady=5)\n",
    "tk.Button(root, text=\"Show Prediction\", command=show_prediction, **button_style).pack(pady=5)\n",
    "tk.Button(root, text=\"Show Location\", command=show_location, **button_style).pack(pady=5)\n",
    "\n",
    "# Result Display\n",
    "result_label = tk.Label(root, text=\"\", font=(\"Helvetica\", 12), bg=\"#f5f5f5\", justify=\"left\")\n",
    "result_label.pack(pady=10)\n",
    "\n",
    "root.mainloop()\n"
   ]
  }
 ],
 "metadata": {
  "colab": {
   "provenance": []
  },
  "kernelspec": {
   "display_name": "Python 3 (ipykernel)",
   "language": "python",
   "name": "python3"
  },
  "language_info": {
   "codemirror_mode": {
    "name": "ipython",
    "version": 3
   },
   "file_extension": ".py",
   "mimetype": "text/x-python",
   "name": "python",
   "nbconvert_exporter": "python",
   "pygments_lexer": "ipython3",
   "version": "3.11.5"
  }
 },
 "nbformat": 4,
 "nbformat_minor": 5
}
